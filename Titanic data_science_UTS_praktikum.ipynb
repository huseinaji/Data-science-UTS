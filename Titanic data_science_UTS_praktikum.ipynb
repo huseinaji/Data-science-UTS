{
  "nbformat": 4,
  "nbformat_minor": 0,
  "metadata": {
    "colab": {
      "name": "data science UTS praktikum.ipynb",
      "provenance": [],
      "collapsed_sections": []
    },
    "kernelspec": {
      "name": "python3",
      "display_name": "Python 3"
    },
    "language_info": {
      "name": "python"
    }
  },
  "cells": [
    {
      "cell_type": "markdown",
      "metadata": {
        "id": "yIH0_tIlNKUg"
      },
      "source": [
        "# DATA SCIENCE UTS Praktikum\n",
        "TUGAS\n",
        "\n",
        "*   Dari dataset titanic, training data dengan 4 metode ML (KNN, Naive Bayes, Decision Tree, dan SVM)\n",
        "\n",
        "\n",
        "*   Lakukan preprocessing sebelum melakukan training\n",
        "\n",
        "*   Gunakan 5 fold cross validation dan splitting training dan testing dengan perbandingan 70%, 30%\n",
        "\n",
        "*   Gunakan Measurement dengan metrix Akurasi, ROC-curve, precision, recall, Sensitivity, specificity, dan F1-Measurement"
      ]
    },
    {
      "cell_type": "code",
      "metadata": {
        "id": "eu-C7CHthT1A"
      },
      "source": [
        "import pandas as pd\n",
        "import numpy as np\n",
        "from sklearn import metrics\n",
        "from sklearn import preprocessing\n",
        "from sklearn.neighbors import KNeighborsClassifier\n",
        "from sklearn.model_selection import train_test_split\n",
        "from sklearn.naive_bayes import GaussianNB\n",
        "from sklearn.tree import DecisionTreeClassifier\n",
        "from sklearn.model_selection import cross_val_score\n",
        "from sklearn.model_selection import KFold\n",
        "from sklearn.svm import SVC\n",
        "from sklearn.metrics import classification_report\n",
        "from sklearn.metrics import confusion_matrix\n",
        "from sklearn.metrics import roc_auc_score\n",
        "from sklearn.metrics import recall_score\n",
        "from sklearn.metrics import make_scorer"
      ],
      "execution_count": null,
      "outputs": []
    },
    {
      "cell_type": "markdown",
      "metadata": {
        "id": "6EW_62o2NXnh"
      },
      "source": [
        "Memuat dan membaca dataset titanic kemudian ditampilkan 5 data teratas."
      ]
    },
    {
      "cell_type": "code",
      "metadata": {
        "colab": {
          "base_uri": "https://localhost:8080/",
          "height": 255
        },
        "id": "GhgBY_k1jJAI",
        "outputId": "9ea68f03-75d7-4e01-ce5a-4523fb2d8446"
      },
      "source": [
        "dataset = pd.read_csv('titanic.csv', na_values='?')\n",
        "ds = dataset.copy()\n",
        "dataset.head()"
      ],
      "execution_count": null,
      "outputs": [
        {
          "output_type": "execute_result",
          "data": {
            "text/html": [
              "<div>\n",
              "<style scoped>\n",
              "    .dataframe tbody tr th:only-of-type {\n",
              "        vertical-align: middle;\n",
              "    }\n",
              "\n",
              "    .dataframe tbody tr th {\n",
              "        vertical-align: top;\n",
              "    }\n",
              "\n",
              "    .dataframe thead th {\n",
              "        text-align: right;\n",
              "    }\n",
              "</style>\n",
              "<table border=\"1\" class=\"dataframe\">\n",
              "  <thead>\n",
              "    <tr style=\"text-align: right;\">\n",
              "      <th></th>\n",
              "      <th>PassengerId</th>\n",
              "      <th>Survived</th>\n",
              "      <th>Pclass</th>\n",
              "      <th>Name</th>\n",
              "      <th>Sex</th>\n",
              "      <th>Age</th>\n",
              "      <th>SibSp</th>\n",
              "      <th>Parch</th>\n",
              "      <th>Ticket</th>\n",
              "      <th>Fare</th>\n",
              "      <th>Cabin</th>\n",
              "      <th>Embarked</th>\n",
              "    </tr>\n",
              "  </thead>\n",
              "  <tbody>\n",
              "    <tr>\n",
              "      <th>0</th>\n",
              "      <td>1</td>\n",
              "      <td>0</td>\n",
              "      <td>3</td>\n",
              "      <td>Braund, Mr. Owen Harris</td>\n",
              "      <td>male</td>\n",
              "      <td>22.0</td>\n",
              "      <td>1</td>\n",
              "      <td>0</td>\n",
              "      <td>A/5 21171</td>\n",
              "      <td>7.2500</td>\n",
              "      <td>NaN</td>\n",
              "      <td>S</td>\n",
              "    </tr>\n",
              "    <tr>\n",
              "      <th>1</th>\n",
              "      <td>2</td>\n",
              "      <td>1</td>\n",
              "      <td>1</td>\n",
              "      <td>Cumings, Mrs. John Bradley (Florence Briggs Th...</td>\n",
              "      <td>female</td>\n",
              "      <td>38.0</td>\n",
              "      <td>1</td>\n",
              "      <td>0</td>\n",
              "      <td>PC 17599</td>\n",
              "      <td>71.2833</td>\n",
              "      <td>C85</td>\n",
              "      <td>C</td>\n",
              "    </tr>\n",
              "    <tr>\n",
              "      <th>2</th>\n",
              "      <td>3</td>\n",
              "      <td>1</td>\n",
              "      <td>3</td>\n",
              "      <td>Heikkinen, Miss. Laina</td>\n",
              "      <td>female</td>\n",
              "      <td>26.0</td>\n",
              "      <td>0</td>\n",
              "      <td>0</td>\n",
              "      <td>STON/O2. 3101282</td>\n",
              "      <td>7.9250</td>\n",
              "      <td>NaN</td>\n",
              "      <td>S</td>\n",
              "    </tr>\n",
              "    <tr>\n",
              "      <th>3</th>\n",
              "      <td>4</td>\n",
              "      <td>1</td>\n",
              "      <td>1</td>\n",
              "      <td>Futrelle, Mrs. Jacques Heath (Lily May Peel)</td>\n",
              "      <td>female</td>\n",
              "      <td>35.0</td>\n",
              "      <td>1</td>\n",
              "      <td>0</td>\n",
              "      <td>113803</td>\n",
              "      <td>53.1000</td>\n",
              "      <td>C123</td>\n",
              "      <td>S</td>\n",
              "    </tr>\n",
              "    <tr>\n",
              "      <th>4</th>\n",
              "      <td>5</td>\n",
              "      <td>0</td>\n",
              "      <td>3</td>\n",
              "      <td>Allen, Mr. William Henry</td>\n",
              "      <td>male</td>\n",
              "      <td>35.0</td>\n",
              "      <td>0</td>\n",
              "      <td>0</td>\n",
              "      <td>373450</td>\n",
              "      <td>8.0500</td>\n",
              "      <td>NaN</td>\n",
              "      <td>S</td>\n",
              "    </tr>\n",
              "  </tbody>\n",
              "</table>\n",
              "</div>"
            ],
            "text/plain": [
              "   PassengerId  Survived  Pclass  ...     Fare Cabin  Embarked\n",
              "0            1         0       3  ...   7.2500   NaN         S\n",
              "1            2         1       1  ...  71.2833   C85         C\n",
              "2            3         1       3  ...   7.9250   NaN         S\n",
              "3            4         1       1  ...  53.1000  C123         S\n",
              "4            5         0       3  ...   8.0500   NaN         S\n",
              "\n",
              "[5 rows x 12 columns]"
            ]
          },
          "metadata": {
            "tags": []
          },
          "execution_count": 2
        }
      ]
    },
    {
      "cell_type": "markdown",
      "metadata": {
        "id": "z1QE-0fNNgqB"
      },
      "source": [
        "Menampilkan jumlah missing value setiap atribut."
      ]
    },
    {
      "cell_type": "code",
      "metadata": {
        "colab": {
          "base_uri": "https://localhost:8080/"
        },
        "id": "D5f6jLeHkAHr",
        "outputId": "b9976761-0105-4708-d1a2-4a2003e7c5d0"
      },
      "source": [
        "ds.isna().sum()"
      ],
      "execution_count": null,
      "outputs": [
        {
          "output_type": "execute_result",
          "data": {
            "text/plain": [
              "PassengerId      0\n",
              "Survived         0\n",
              "Pclass           0\n",
              "Name             0\n",
              "Sex              0\n",
              "Age            177\n",
              "SibSp            0\n",
              "Parch            0\n",
              "Ticket           0\n",
              "Fare             0\n",
              "Cabin          687\n",
              "Embarked         2\n",
              "dtype: int64"
            ]
          },
          "metadata": {
            "tags": []
          },
          "execution_count": 3
        }
      ]
    },
    {
      "cell_type": "markdown",
      "metadata": {
        "id": "-puT07opNwiJ"
      },
      "source": [
        "Melihat tipe data dari masing - masing kolom dataset\n"
      ]
    },
    {
      "cell_type": "code",
      "metadata": {
        "colab": {
          "base_uri": "https://localhost:8080/"
        },
        "id": "_SiwyTC6lswD",
        "outputId": "a73af30b-f72b-4b68-ea62-6ede88b251fb"
      },
      "source": [
        "ds.info()"
      ],
      "execution_count": null,
      "outputs": [
        {
          "output_type": "stream",
          "text": [
            "<class 'pandas.core.frame.DataFrame'>\n",
            "RangeIndex: 891 entries, 0 to 890\n",
            "Data columns (total 12 columns):\n",
            " #   Column       Non-Null Count  Dtype  \n",
            "---  ------       --------------  -----  \n",
            " 0   PassengerId  891 non-null    int64  \n",
            " 1   Survived     891 non-null    int64  \n",
            " 2   Pclass       891 non-null    int64  \n",
            " 3   Name         891 non-null    object \n",
            " 4   Sex          891 non-null    object \n",
            " 5   Age          714 non-null    float64\n",
            " 6   SibSp        891 non-null    int64  \n",
            " 7   Parch        891 non-null    int64  \n",
            " 8   Ticket       891 non-null    object \n",
            " 9   Fare         891 non-null    float64\n",
            " 10  Cabin        204 non-null    object \n",
            " 11  Embarked     889 non-null    object \n",
            "dtypes: float64(2), int64(5), object(5)\n",
            "memory usage: 83.7+ KB\n"
          ],
          "name": "stdout"
        }
      ]
    },
    {
      "cell_type": "markdown",
      "metadata": {
        "id": "0geNUpnvNqo8"
      },
      "source": [
        "Memisah antara data training dan data target dengan X sebagai data training dan y sebagai target"
      ]
    },
    {
      "cell_type": "code",
      "metadata": {
        "id": "q3hEI1tmzz4J"
      },
      "source": [
        "X, y = ds.drop(['Survived'], axis =1), ds.Survived"
      ],
      "execution_count": null,
      "outputs": []
    },
    {
      "cell_type": "markdown",
      "metadata": {
        "id": "xuwZHfG3OFI2"
      },
      "source": [
        "*   Preprocessing pada setiap atribut dengan mengubah dari data kategorical kedalam data numeric dan menangani missing value.\n",
        "\n",
        "*   Pada atribut sex, data dipetakan menjadi 1 untuk male dan 0 untuk female. \n",
        "\n",
        "*   Pada age dan embarked terdapat missing value, maka pada age, missing data akan diisi dengan rata – rata atribut pada kelas yang sama\n",
        "*   Pada atribut embarked karena data teermasuk kategorical, maka data yang hilaing diisi dengan nilai yang paling sering muncul pada atribut tersebut (modus) setelah itu atribut diubah menjadi data numeric. \n",
        "\n",
        "\n",
        "\n"
      ]
    },
    {
      "cell_type": "code",
      "metadata": {
        "colab": {
          "base_uri": "https://localhost:8080/",
          "height": 221
        },
        "id": "jXzdc66loyM6",
        "outputId": "22d9de0d-470b-444a-f9b2-438dc3b3b284"
      },
      "source": [
        "le = preprocessing.LabelEncoder()\n",
        "X['Sex'] = ds['Sex'].map({'male':1, 'female':0})\n",
        "X['Age'] = ds.groupby('Survived')['Age'].transform(lambda x: x.fillna(round(x.mean(), 0)))\n",
        "X['Ticket'] = le.fit_transform(X.Ticket)\n",
        "\n",
        "X['Embarked'].fillna(ds.groupby('Survived')['Embarked'].transform(lambda x: pd.Series.mode(x)[0]), inplace = True)\n",
        "X['Embarked'] = le.fit_transform(X.Embarked)\n",
        "\n",
        "X.head()"
      ],
      "execution_count": null,
      "outputs": [
        {
          "output_type": "execute_result",
          "data": {
            "text/html": [
              "<div>\n",
              "<style scoped>\n",
              "    .dataframe tbody tr th:only-of-type {\n",
              "        vertical-align: middle;\n",
              "    }\n",
              "\n",
              "    .dataframe tbody tr th {\n",
              "        vertical-align: top;\n",
              "    }\n",
              "\n",
              "    .dataframe thead th {\n",
              "        text-align: right;\n",
              "    }\n",
              "</style>\n",
              "<table border=\"1\" class=\"dataframe\">\n",
              "  <thead>\n",
              "    <tr style=\"text-align: right;\">\n",
              "      <th></th>\n",
              "      <th>PassengerId</th>\n",
              "      <th>Pclass</th>\n",
              "      <th>Name</th>\n",
              "      <th>Sex</th>\n",
              "      <th>Age</th>\n",
              "      <th>SibSp</th>\n",
              "      <th>Parch</th>\n",
              "      <th>Ticket</th>\n",
              "      <th>Fare</th>\n",
              "      <th>Cabin</th>\n",
              "      <th>Embarked</th>\n",
              "    </tr>\n",
              "  </thead>\n",
              "  <tbody>\n",
              "    <tr>\n",
              "      <th>0</th>\n",
              "      <td>1</td>\n",
              "      <td>3</td>\n",
              "      <td>Braund, Mr. Owen Harris</td>\n",
              "      <td>1</td>\n",
              "      <td>22.0</td>\n",
              "      <td>1</td>\n",
              "      <td>0</td>\n",
              "      <td>523</td>\n",
              "      <td>7.2500</td>\n",
              "      <td>NaN</td>\n",
              "      <td>2</td>\n",
              "    </tr>\n",
              "    <tr>\n",
              "      <th>1</th>\n",
              "      <td>2</td>\n",
              "      <td>1</td>\n",
              "      <td>Cumings, Mrs. John Bradley (Florence Briggs Th...</td>\n",
              "      <td>0</td>\n",
              "      <td>38.0</td>\n",
              "      <td>1</td>\n",
              "      <td>0</td>\n",
              "      <td>596</td>\n",
              "      <td>71.2833</td>\n",
              "      <td>C85</td>\n",
              "      <td>0</td>\n",
              "    </tr>\n",
              "    <tr>\n",
              "      <th>2</th>\n",
              "      <td>3</td>\n",
              "      <td>3</td>\n",
              "      <td>Heikkinen, Miss. Laina</td>\n",
              "      <td>0</td>\n",
              "      <td>26.0</td>\n",
              "      <td>0</td>\n",
              "      <td>0</td>\n",
              "      <td>669</td>\n",
              "      <td>7.9250</td>\n",
              "      <td>NaN</td>\n",
              "      <td>2</td>\n",
              "    </tr>\n",
              "    <tr>\n",
              "      <th>3</th>\n",
              "      <td>4</td>\n",
              "      <td>1</td>\n",
              "      <td>Futrelle, Mrs. Jacques Heath (Lily May Peel)</td>\n",
              "      <td>0</td>\n",
              "      <td>35.0</td>\n",
              "      <td>1</td>\n",
              "      <td>0</td>\n",
              "      <td>49</td>\n",
              "      <td>53.1000</td>\n",
              "      <td>C123</td>\n",
              "      <td>2</td>\n",
              "    </tr>\n",
              "    <tr>\n",
              "      <th>4</th>\n",
              "      <td>5</td>\n",
              "      <td>3</td>\n",
              "      <td>Allen, Mr. William Henry</td>\n",
              "      <td>1</td>\n",
              "      <td>35.0</td>\n",
              "      <td>0</td>\n",
              "      <td>0</td>\n",
              "      <td>472</td>\n",
              "      <td>8.0500</td>\n",
              "      <td>NaN</td>\n",
              "      <td>2</td>\n",
              "    </tr>\n",
              "  </tbody>\n",
              "</table>\n",
              "</div>"
            ],
            "text/plain": [
              "   PassengerId  Pclass  ... Cabin  Embarked\n",
              "0            1       3  ...   NaN         2\n",
              "1            2       1  ...   C85         0\n",
              "2            3       3  ...   NaN         2\n",
              "3            4       1  ...  C123         2\n",
              "4            5       3  ...   NaN         2\n",
              "\n",
              "[5 rows x 11 columns]"
            ]
          },
          "metadata": {
            "tags": []
          },
          "execution_count": 6
        }
      ]
    },
    {
      "cell_type": "markdown",
      "metadata": {
        "id": "33Zf1Mw5OeTP"
      },
      "source": [
        "Pada atribut name, karena tidak terlalu berpengaruh pada target maka akan dipisah berdasarkan gelar mereka."
      ]
    },
    {
      "cell_type": "code",
      "metadata": {
        "colab": {
          "base_uri": "https://localhost:8080/"
        },
        "id": "H7Z3gHnou3Gf",
        "outputId": "88fa7a5b-14fa-4a0d-88b7-ed796a25e73b"
      },
      "source": [
        "titles = set()\n",
        "for name in X['Name']:\n",
        "    titles.add(name.split(',')[1].split('.')[0].strip())\n",
        "\n",
        "print(titles)\n",
        "Title_Dictionary = {\n",
        "    \"Capt\": \"Officer\",\n",
        "    \"Col\": \"Officer\",\n",
        "    \"Major\": \"Officer\",\n",
        "    \"Jonkheer\": \"Royalty\",\n",
        "    \"Don\": \"Royalty\",\n",
        "    \"Sir\" : \"Royalty\",\n",
        "    \"Dr\": \"Officer\",\n",
        "    \"Rev\": \"Officer\",\n",
        "    \"the Countess\":\"Royalty\",\n",
        "    \"Mme\": \"Mrs\",\n",
        "    \"Mlle\": \"Miss\",\n",
        "    \"Ms\": \"Mrs\",\n",
        "    \"Mr\" : \"Mr\",\n",
        "    \"Mrs\" : \"Mrs\",\n",
        "    \"Miss\" : \"Miss\",\n",
        "    \"Master\" : \"Master\",\n",
        "    \"Lady\" : \"Royalty\"\n",
        "}"
      ],
      "execution_count": null,
      "outputs": [
        {
          "output_type": "stream",
          "text": [
            "{'Ms', 'Mrs', 'Capt', 'Mme', 'Rev', 'Miss', 'Lady', 'Master', 'the Countess', 'Col', 'Mr', 'Major', 'Jonkheer', 'Dr', 'Don', 'Mlle', 'Sir'}\n"
          ],
          "name": "stdout"
        }
      ]
    },
    {
      "cell_type": "markdown",
      "metadata": {
        "id": "p0xSRbGCOjk3"
      },
      "source": [
        "Menggunakan teknik one hot encoding untuk membentuk atribut baru sesuai dengan gelar dan menghapus atribut nama dalam dataset"
      ]
    },
    {
      "cell_type": "code",
      "metadata": {
        "id": "e5jPxp2e9aNO",
        "colab": {
          "base_uri": "https://localhost:8080/",
          "height": 224
        },
        "outputId": "eb212996-6370-4b94-f143-5bf5c1b6d1dc"
      },
      "source": [
        "X['Title'] = X['Name'].map(lambda name:name.split(',')[1].split('.')[0].strip())\n",
        "X['Title'] = X.Title.map(Title_Dictionary)\n",
        "\n",
        "titles_dummies = pd.get_dummies(X['Title'], prefix='Title')\n",
        "X = pd.concat([X, titles_dummies], axis=1)\n",
        "X = X.drop(columns=['Name', 'Title'])\n",
        "X.head()"
      ],
      "execution_count": null,
      "outputs": [
        {
          "output_type": "execute_result",
          "data": {
            "text/html": [
              "<div>\n",
              "<style scoped>\n",
              "    .dataframe tbody tr th:only-of-type {\n",
              "        vertical-align: middle;\n",
              "    }\n",
              "\n",
              "    .dataframe tbody tr th {\n",
              "        vertical-align: top;\n",
              "    }\n",
              "\n",
              "    .dataframe thead th {\n",
              "        text-align: right;\n",
              "    }\n",
              "</style>\n",
              "<table border=\"1\" class=\"dataframe\">\n",
              "  <thead>\n",
              "    <tr style=\"text-align: right;\">\n",
              "      <th></th>\n",
              "      <th>PassengerId</th>\n",
              "      <th>Pclass</th>\n",
              "      <th>Sex</th>\n",
              "      <th>Age</th>\n",
              "      <th>SibSp</th>\n",
              "      <th>Parch</th>\n",
              "      <th>Ticket</th>\n",
              "      <th>Fare</th>\n",
              "      <th>Cabin</th>\n",
              "      <th>Embarked</th>\n",
              "      <th>Title_Master</th>\n",
              "      <th>Title_Miss</th>\n",
              "      <th>Title_Mr</th>\n",
              "      <th>Title_Mrs</th>\n",
              "      <th>Title_Officer</th>\n",
              "      <th>Title_Royalty</th>\n",
              "    </tr>\n",
              "  </thead>\n",
              "  <tbody>\n",
              "    <tr>\n",
              "      <th>0</th>\n",
              "      <td>1</td>\n",
              "      <td>3</td>\n",
              "      <td>1</td>\n",
              "      <td>22.0</td>\n",
              "      <td>1</td>\n",
              "      <td>0</td>\n",
              "      <td>523</td>\n",
              "      <td>7.2500</td>\n",
              "      <td>NaN</td>\n",
              "      <td>2</td>\n",
              "      <td>0</td>\n",
              "      <td>0</td>\n",
              "      <td>1</td>\n",
              "      <td>0</td>\n",
              "      <td>0</td>\n",
              "      <td>0</td>\n",
              "    </tr>\n",
              "    <tr>\n",
              "      <th>1</th>\n",
              "      <td>2</td>\n",
              "      <td>1</td>\n",
              "      <td>0</td>\n",
              "      <td>38.0</td>\n",
              "      <td>1</td>\n",
              "      <td>0</td>\n",
              "      <td>596</td>\n",
              "      <td>71.2833</td>\n",
              "      <td>C85</td>\n",
              "      <td>0</td>\n",
              "      <td>0</td>\n",
              "      <td>0</td>\n",
              "      <td>0</td>\n",
              "      <td>1</td>\n",
              "      <td>0</td>\n",
              "      <td>0</td>\n",
              "    </tr>\n",
              "    <tr>\n",
              "      <th>2</th>\n",
              "      <td>3</td>\n",
              "      <td>3</td>\n",
              "      <td>0</td>\n",
              "      <td>26.0</td>\n",
              "      <td>0</td>\n",
              "      <td>0</td>\n",
              "      <td>669</td>\n",
              "      <td>7.9250</td>\n",
              "      <td>NaN</td>\n",
              "      <td>2</td>\n",
              "      <td>0</td>\n",
              "      <td>1</td>\n",
              "      <td>0</td>\n",
              "      <td>0</td>\n",
              "      <td>0</td>\n",
              "      <td>0</td>\n",
              "    </tr>\n",
              "    <tr>\n",
              "      <th>3</th>\n",
              "      <td>4</td>\n",
              "      <td>1</td>\n",
              "      <td>0</td>\n",
              "      <td>35.0</td>\n",
              "      <td>1</td>\n",
              "      <td>0</td>\n",
              "      <td>49</td>\n",
              "      <td>53.1000</td>\n",
              "      <td>C123</td>\n",
              "      <td>2</td>\n",
              "      <td>0</td>\n",
              "      <td>0</td>\n",
              "      <td>0</td>\n",
              "      <td>1</td>\n",
              "      <td>0</td>\n",
              "      <td>0</td>\n",
              "    </tr>\n",
              "    <tr>\n",
              "      <th>4</th>\n",
              "      <td>5</td>\n",
              "      <td>3</td>\n",
              "      <td>1</td>\n",
              "      <td>35.0</td>\n",
              "      <td>0</td>\n",
              "      <td>0</td>\n",
              "      <td>472</td>\n",
              "      <td>8.0500</td>\n",
              "      <td>NaN</td>\n",
              "      <td>2</td>\n",
              "      <td>0</td>\n",
              "      <td>0</td>\n",
              "      <td>1</td>\n",
              "      <td>0</td>\n",
              "      <td>0</td>\n",
              "      <td>0</td>\n",
              "    </tr>\n",
              "  </tbody>\n",
              "</table>\n",
              "</div>"
            ],
            "text/plain": [
              "   PassengerId  Pclass  Sex  ...  Title_Mrs  Title_Officer  Title_Royalty\n",
              "0            1       3    1  ...          0              0              0\n",
              "1            2       1    0  ...          1              0              0\n",
              "2            3       3    0  ...          0              0              0\n",
              "3            4       1    0  ...          1              0              0\n",
              "4            5       3    1  ...          0              0              0\n",
              "\n",
              "[5 rows x 16 columns]"
            ]
          },
          "metadata": {
            "tags": []
          },
          "execution_count": 8
        }
      ]
    },
    {
      "cell_type": "markdown",
      "metadata": {
        "id": "EAIYBcmTQHwC"
      },
      "source": [
        "Atribut kabin memiliki missing value yang cukup banyak\n",
        "hal yang dilakukan adalah memetakan data dan membentuk atribut baru sesuai dengan karakter pertama dari nama kabin dan missing value diletakkan pada atribut Cabin_U yang berarti \"Unknown\""
      ]
    },
    {
      "cell_type": "code",
      "metadata": {
        "id": "Tvj2fZOtCv5M",
        "colab": {
          "base_uri": "https://localhost:8080/",
          "height": 224
        },
        "outputId": "49785299-9dd0-4703-923a-141b5f8656fa"
      },
      "source": [
        "X.Cabin.fillna('U', inplace=True)\n",
        "    \n",
        "    # mapping each Cabin value with the cabin letter\n",
        "X['Cabin'] = X['Cabin'].map(lambda c: c[0])\n",
        "    \n",
        "    # dummy encoding ...\n",
        "cabin_dummies = pd.get_dummies(X['Cabin'], prefix='Cabin')    \n",
        "X = pd.concat([X, cabin_dummies], axis=1)\n",
        "X = X.drop(columns=['Cabin'])\n",
        "X.head()"
      ],
      "execution_count": null,
      "outputs": [
        {
          "output_type": "execute_result",
          "data": {
            "text/html": [
              "<div>\n",
              "<style scoped>\n",
              "    .dataframe tbody tr th:only-of-type {\n",
              "        vertical-align: middle;\n",
              "    }\n",
              "\n",
              "    .dataframe tbody tr th {\n",
              "        vertical-align: top;\n",
              "    }\n",
              "\n",
              "    .dataframe thead th {\n",
              "        text-align: right;\n",
              "    }\n",
              "</style>\n",
              "<table border=\"1\" class=\"dataframe\">\n",
              "  <thead>\n",
              "    <tr style=\"text-align: right;\">\n",
              "      <th></th>\n",
              "      <th>PassengerId</th>\n",
              "      <th>Pclass</th>\n",
              "      <th>Sex</th>\n",
              "      <th>Age</th>\n",
              "      <th>SibSp</th>\n",
              "      <th>Parch</th>\n",
              "      <th>Ticket</th>\n",
              "      <th>Fare</th>\n",
              "      <th>Embarked</th>\n",
              "      <th>Title_Master</th>\n",
              "      <th>Title_Miss</th>\n",
              "      <th>Title_Mr</th>\n",
              "      <th>Title_Mrs</th>\n",
              "      <th>Title_Officer</th>\n",
              "      <th>Title_Royalty</th>\n",
              "      <th>Cabin_A</th>\n",
              "      <th>Cabin_B</th>\n",
              "      <th>Cabin_C</th>\n",
              "      <th>Cabin_D</th>\n",
              "      <th>Cabin_E</th>\n",
              "      <th>Cabin_F</th>\n",
              "      <th>Cabin_G</th>\n",
              "      <th>Cabin_T</th>\n",
              "      <th>Cabin_U</th>\n",
              "    </tr>\n",
              "  </thead>\n",
              "  <tbody>\n",
              "    <tr>\n",
              "      <th>0</th>\n",
              "      <td>1</td>\n",
              "      <td>3</td>\n",
              "      <td>1</td>\n",
              "      <td>22.0</td>\n",
              "      <td>1</td>\n",
              "      <td>0</td>\n",
              "      <td>523</td>\n",
              "      <td>7.2500</td>\n",
              "      <td>2</td>\n",
              "      <td>0</td>\n",
              "      <td>0</td>\n",
              "      <td>1</td>\n",
              "      <td>0</td>\n",
              "      <td>0</td>\n",
              "      <td>0</td>\n",
              "      <td>0</td>\n",
              "      <td>0</td>\n",
              "      <td>0</td>\n",
              "      <td>0</td>\n",
              "      <td>0</td>\n",
              "      <td>0</td>\n",
              "      <td>0</td>\n",
              "      <td>0</td>\n",
              "      <td>1</td>\n",
              "    </tr>\n",
              "    <tr>\n",
              "      <th>1</th>\n",
              "      <td>2</td>\n",
              "      <td>1</td>\n",
              "      <td>0</td>\n",
              "      <td>38.0</td>\n",
              "      <td>1</td>\n",
              "      <td>0</td>\n",
              "      <td>596</td>\n",
              "      <td>71.2833</td>\n",
              "      <td>0</td>\n",
              "      <td>0</td>\n",
              "      <td>0</td>\n",
              "      <td>0</td>\n",
              "      <td>1</td>\n",
              "      <td>0</td>\n",
              "      <td>0</td>\n",
              "      <td>0</td>\n",
              "      <td>0</td>\n",
              "      <td>1</td>\n",
              "      <td>0</td>\n",
              "      <td>0</td>\n",
              "      <td>0</td>\n",
              "      <td>0</td>\n",
              "      <td>0</td>\n",
              "      <td>0</td>\n",
              "    </tr>\n",
              "    <tr>\n",
              "      <th>2</th>\n",
              "      <td>3</td>\n",
              "      <td>3</td>\n",
              "      <td>0</td>\n",
              "      <td>26.0</td>\n",
              "      <td>0</td>\n",
              "      <td>0</td>\n",
              "      <td>669</td>\n",
              "      <td>7.9250</td>\n",
              "      <td>2</td>\n",
              "      <td>0</td>\n",
              "      <td>1</td>\n",
              "      <td>0</td>\n",
              "      <td>0</td>\n",
              "      <td>0</td>\n",
              "      <td>0</td>\n",
              "      <td>0</td>\n",
              "      <td>0</td>\n",
              "      <td>0</td>\n",
              "      <td>0</td>\n",
              "      <td>0</td>\n",
              "      <td>0</td>\n",
              "      <td>0</td>\n",
              "      <td>0</td>\n",
              "      <td>1</td>\n",
              "    </tr>\n",
              "    <tr>\n",
              "      <th>3</th>\n",
              "      <td>4</td>\n",
              "      <td>1</td>\n",
              "      <td>0</td>\n",
              "      <td>35.0</td>\n",
              "      <td>1</td>\n",
              "      <td>0</td>\n",
              "      <td>49</td>\n",
              "      <td>53.1000</td>\n",
              "      <td>2</td>\n",
              "      <td>0</td>\n",
              "      <td>0</td>\n",
              "      <td>0</td>\n",
              "      <td>1</td>\n",
              "      <td>0</td>\n",
              "      <td>0</td>\n",
              "      <td>0</td>\n",
              "      <td>0</td>\n",
              "      <td>1</td>\n",
              "      <td>0</td>\n",
              "      <td>0</td>\n",
              "      <td>0</td>\n",
              "      <td>0</td>\n",
              "      <td>0</td>\n",
              "      <td>0</td>\n",
              "    </tr>\n",
              "    <tr>\n",
              "      <th>4</th>\n",
              "      <td>5</td>\n",
              "      <td>3</td>\n",
              "      <td>1</td>\n",
              "      <td>35.0</td>\n",
              "      <td>0</td>\n",
              "      <td>0</td>\n",
              "      <td>472</td>\n",
              "      <td>8.0500</td>\n",
              "      <td>2</td>\n",
              "      <td>0</td>\n",
              "      <td>0</td>\n",
              "      <td>1</td>\n",
              "      <td>0</td>\n",
              "      <td>0</td>\n",
              "      <td>0</td>\n",
              "      <td>0</td>\n",
              "      <td>0</td>\n",
              "      <td>0</td>\n",
              "      <td>0</td>\n",
              "      <td>0</td>\n",
              "      <td>0</td>\n",
              "      <td>0</td>\n",
              "      <td>0</td>\n",
              "      <td>1</td>\n",
              "    </tr>\n",
              "  </tbody>\n",
              "</table>\n",
              "</div>"
            ],
            "text/plain": [
              "   PassengerId  Pclass  Sex   Age  ...  Cabin_F  Cabin_G  Cabin_T  Cabin_U\n",
              "0            1       3    1  22.0  ...        0        0        0        1\n",
              "1            2       1    0  38.0  ...        0        0        0        0\n",
              "2            3       3    0  26.0  ...        0        0        0        1\n",
              "3            4       1    0  35.0  ...        0        0        0        0\n",
              "4            5       3    1  35.0  ...        0        0        0        1\n",
              "\n",
              "[5 rows x 24 columns]"
            ]
          },
          "metadata": {
            "tags": []
          },
          "execution_count": 9
        }
      ]
    },
    {
      "cell_type": "markdown",
      "metadata": {
        "id": "jRYT36SMSEjS"
      },
      "source": [
        "Melakukan normalisasi dengan metode Z score"
      ]
    },
    {
      "cell_type": "code",
      "metadata": {
        "colab": {
          "base_uri": "https://localhost:8080/"
        },
        "id": "pmk-8cwWD_dO",
        "outputId": "eb7e025a-d6de-4980-916a-078fa2771d69"
      },
      "source": [
        "#NORMALISASI\n",
        "Xzscore = scaler.fit_transform(X)\n",
        "Xzscore"
      ],
      "execution_count": null,
      "outputs": [
        {
          "output_type": "execute_result",
          "data": {
            "text/plain": [
              "array([[-1.73010796,  0.82737724,  0.73769513, ..., -0.06715343,\n",
              "        -0.03352008,  0.54492498],\n",
              "       [-1.72622007, -1.56610693, -1.35557354, ..., -0.06715343,\n",
              "        -0.03352008, -1.835115  ],\n",
              "       [-1.72233219,  0.82737724, -1.35557354, ..., -0.06715343,\n",
              "        -0.03352008,  0.54492498],\n",
              "       ...,\n",
              "       [ 1.72233219,  0.82737724, -1.35557354, ..., -0.06715343,\n",
              "        -0.03352008,  0.54492498],\n",
              "       [ 1.72622007, -1.56610693,  0.73769513, ..., -0.06715343,\n",
              "        -0.03352008, -1.835115  ],\n",
              "       [ 1.73010796,  0.82737724,  0.73769513, ..., -0.06715343,\n",
              "        -0.03352008,  0.54492498]])"
            ]
          },
          "metadata": {
            "tags": []
          },
          "execution_count": 13
        }
      ]
    },
    {
      "cell_type": "code",
      "metadata": {
        "id": "YRegEy8BSPEi"
      },
      "source": [
        "specificity = make_scorer(recall_score, pos_label=0)\n",
        "kf = KFold(n_splits=5)\n",
        "X_train, X_test, y_train, y_test = train_test_split(Xzscore, y, test_size=0.30, random_state=0)"
      ],
      "execution_count": null,
      "outputs": []
    },
    {
      "cell_type": "markdown",
      "metadata": {
        "id": "3Prn1JBxSPTL"
      },
      "source": [
        "Melakukan KNN dengan 5 fold validation"
      ]
    },
    {
      "cell_type": "code",
      "metadata": {
        "colab": {
          "base_uri": "https://localhost:8080/"
        },
        "id": "Fa91X1RKFHEH",
        "outputId": "2f27abbc-3c84-4420-d885-f032b3112560"
      },
      "source": [
        "#KNN 5-FOLD VALIDATION\n",
        "knn = KNeighborsClassifier(n_neighbors=5)\n",
        "knn_scores = cross_val_score(knn, Xzscore, y, scoring = 'accuracy', cv = kf) \n",
        "knn_scores_ROC = cross_val_score(knn, Xzscore, y, scoring = 'roc_auc', cv=kf)\n",
        "knn_scores_precision = cross_val_score(knn, Xzscore, y, scoring = 'precision', cv=kf)\n",
        "knn_scores_recall = cross_val_score(knn, Xzscore, y, scoring = 'recall', cv=kf)\n",
        "knn_scores_specificity = cross_val_score(knn, Xzscore, y, scoring = specificity, cv=kf)\n",
        "knn_scores_f1 = cross_val_score(knn, Xzscore, y, scoring = 'f1', cv=kf)\n",
        "\n",
        "print(\"Accuracy: \", np.mean(knn_scores))\n",
        "print(\"AUC: \", knn_scores_ROC.mean(), \"\", knn_scores_ROC.std())\n",
        "print(\"Precision: \", np.mean(knn_scores_precision))\n",
        "print(\"Recall: \", np.mean(knn_scores_recall))\n",
        "print(\"Sensitivity: \", np.mean(knn_scores_recall))\n",
        "print(\"Specificity: \", np.mean(knn_scores_specificity))\n",
        "print(\"f1-measure: \", np.mean(knn_scores_f1))"
      ],
      "execution_count": null,
      "outputs": [
        {
          "output_type": "stream",
          "text": [
            "Accuracy:  0.8136965664427847\n",
            "AUC:  0.8553529969489846  0.033363704134740345\n",
            "Precision:  0.7991535817434813\n",
            "Recall:  0.6944971074755222\n",
            "Sensitivity:  0.6944971074755222\n",
            "Specificity:  0.8915865848161835\n",
            "f1-measure:  0.738936434108527\n"
          ],
          "name": "stdout"
        }
      ]
    },
    {
      "cell_type": "markdown",
      "metadata": {
        "id": "CcWnBT1tSSDQ"
      },
      "source": [
        "Melakukan KNN dengan train test split rasio 7:3."
      ]
    },
    {
      "cell_type": "code",
      "metadata": {
        "colab": {
          "base_uri": "https://localhost:8080/"
        },
        "id": "QmIpMs6BWX6O",
        "outputId": "7ebbe194-2cc6-4b26-cc23-224ab652ef34"
      },
      "source": [
        "#KNN Splitting training and testing (70%, 30%)\n",
        "\n",
        "knn.fit(X_train, y_train)\n",
        "y_pred = knn.predict(X_test)\n",
        "knn_scores2 = metrics.accuracy_score(y_test, y_pred)\n",
        "\n",
        "tn, fp, fn, tp = matrix = confusion_matrix(y_test, y_pred).ravel()\n",
        "knn_roc = roc_auc_score(y_test, y_pred)\n",
        "knn_precision=tp/(tp+fp)\n",
        "knn_recall=tp/(tp+fn)\n",
        "knn_nvp=tn/(tn+fn)\n",
        "knn_specificity=tn/(tn+fp)\n",
        "knn_f1measure=2*(knn_precision*knn_recall)/(knn_precision+knn_recall)\n",
        "\n",
        "print(\"Accuracy: \", knn_scores2)\n",
        "print(\"ROC: \", knn_roc)\n",
        "print(\"Precision: \", knn_precision)\n",
        "print(\"Recall: \", knn_recall)\n",
        "print(\"Sensitivity: \", knn_recall)\n",
        "print(\"Specificity: \", knn_specificity)\n",
        "print(\"F1-Measure: \", knn_f1measure)"
      ],
      "execution_count": null,
      "outputs": [
        {
          "output_type": "stream",
          "text": [
            "Accuracy:  0.8059701492537313\n",
            "ROC:  0.7946428571428572\n",
            "Precision:  0.7352941176470589\n",
            "Recall:  0.75\n",
            "Sensitivity:  0.75\n",
            "Specificity:  0.8392857142857143\n",
            "F1-Measure:  0.7425742574257426\n"
          ],
          "name": "stdout"
        }
      ]
    },
    {
      "cell_type": "markdown",
      "metadata": {
        "id": "veFVZ9ezSYCN"
      },
      "source": [
        "Naive Bayes 5-FOLD VALIDATION"
      ]
    },
    {
      "cell_type": "code",
      "metadata": {
        "colab": {
          "base_uri": "https://localhost:8080/"
        },
        "id": "s4YI1K93X_z3",
        "outputId": "1787a425-4560-453a-bf74-24b4081d5f65"
      },
      "source": [
        "#Naive Bayes 5-FOLD VALIDATION\n",
        "NB = GaussianNB()\n",
        "NB_scores = cross_val_score(NB, Xzscore, y, scoring = 'accuracy', cv=kf)\n",
        "NB_scores_ROC = cross_val_score(NB, Xzscore, y, scoring = 'roc_auc', cv=kf)\n",
        "NB_scores_precision = cross_val_score(NB, Xzscore, y, scoring = 'precision', cv=kf)\n",
        "NB_scores_recall = cross_val_score(NB, Xzscore, y, scoring = 'recall', cv=kf)\n",
        "NB_scores_specificity = cross_val_score(NB, Xzscore, y, scoring = specificity, cv=kf)\n",
        "NB_scores_f1 = cross_val_score(NB, Xzscore, y, scoring = 'f1', cv=kf)\n",
        "\n",
        "print(\"Accuracy: \", np.mean(NB_scores))\n",
        "print(\"AUC: \", NB_scores_ROC.mean(), \"\", NB_scores_ROC.std())\n",
        "print(\"Precision: \", np.mean(NB_scores_precision))\n",
        "print(\"Recall: \", np.mean(NB_scores_recall))\n",
        "print(\"Sensitivity: \", np.mean(NB_scores_recall))\n",
        "print(\"Specificity: \", np.mean(NB_scores_specificity))\n",
        "print(\"f1-measure: \", np.mean(NB_scores_f1))"
      ],
      "execution_count": null,
      "outputs": [
        {
          "output_type": "stream",
          "text": [
            "Accuracy:  0.6431109158244931\n",
            "AUC:  0.8051469067890045  0.04253460477877525\n",
            "Precision:  0.56123119949292\n",
            "Recall:  0.8047257731919075\n",
            "Sensitivity:  0.8047257731919075\n",
            "Specificity:  0.5587824398526132\n",
            "f1-measure:  0.6243971854917861\n"
          ],
          "name": "stdout"
        }
      ]
    },
    {
      "cell_type": "markdown",
      "metadata": {
        "id": "o_ZoaEKaSZ9j"
      },
      "source": [
        "Naive Bayes Splitting training and testing (70%, 30%)"
      ]
    },
    {
      "cell_type": "code",
      "metadata": {
        "colab": {
          "base_uri": "https://localhost:8080/"
        },
        "id": "HI9H5jNRUMLg",
        "outputId": "a5aa39d5-e7db-4fb6-d848-17e12da08355"
      },
      "source": [
        "#Naive Bayes Splitting training and testing (70%, 30%)\n",
        "NB.fit(X_train, y_train)\n",
        "y_pred = NB.predict(X_test)\n",
        "NB_scores2 = metrics.accuracy_score(y_test, y_pred)\n",
        "\n",
        "tn, fp, fn, tp = matrix = confusion_matrix(y_test, y_pred).ravel()\n",
        "\n",
        "NB_roc = roc_auc_score(y_test, y_pred)\n",
        "NB_precision=tp/(tp+fp)\n",
        "NB_recall=tp/(tp+fn)\n",
        "NB_nvp=tn/(tn+fn)\n",
        "NB_specificity=tn/(tn+fp)\n",
        "NB_f1measure=2*(NB_precision*NB_recall)/(NB_precision+NB_recall)\n",
        "\n",
        "print(\"Accuracy\", NB_scores2)\n",
        "print(\"ROC: \", NB_roc)\n",
        "print(\"Precision: \", NB_precision)\n",
        "print(\"Recall: \", NB_recall)\n",
        "print(\"Sensitivity: \", NB_recall)\n",
        "print(\"Specificity: \", NB_specificity)\n",
        "print(\"F1-Measure: \", NB_f1measure)"
      ],
      "execution_count": null,
      "outputs": [
        {
          "output_type": "stream",
          "text": [
            "Accuracy 0.7835820895522388\n",
            "ROC:  0.7909523809523809\n",
            "Precision:  0.6721311475409836\n",
            "Recall:  0.82\n",
            "Sensitivity:  0.82\n",
            "Specificity:  0.7619047619047619\n",
            "F1-Measure:  0.7387387387387387\n"
          ],
          "name": "stdout"
        }
      ]
    },
    {
      "cell_type": "markdown",
      "metadata": {
        "id": "Eltp2axDSbw6"
      },
      "source": [
        "Decision Tree 5-FOLD VALIDATION"
      ]
    },
    {
      "cell_type": "code",
      "metadata": {
        "colab": {
          "base_uri": "https://localhost:8080/"
        },
        "id": "RrpOhL24Yr9c",
        "outputId": "1a84f8c0-20a6-4585-b125-f89286d637a0"
      },
      "source": [
        "#Decision Tree 5-FOLD VALIDATION\n",
        "DTree = DecisionTreeClassifier()\n",
        "DTree_scores = cross_val_score(DTree, X, y, scoring = 'accuracy', cv=kf)\n",
        "DTree_scores_ROC = cross_val_score(DTree, X, y, scoring = 'roc_auc', cv=kf)\n",
        "DTree_scores_precision = cross_val_score(DTree, X, y, scoring = 'precision', cv=kf)\n",
        "DTree_scores_recall = cross_val_score(DTree, X, y, scoring = 'recall', cv=kf)\n",
        "DTree_scores_specificity = cross_val_score(DTree, X, y, scoring = specificity, cv=kf)\n",
        "DTree_scores_f1 = cross_val_score(DTree, X, y, scoring = 'f1', cv=kf)\n",
        "\n",
        "print(\"Accuracy\", np.mean(DTree_scores))\n",
        "print(\"AUC: \", DTree_scores_ROC.mean(), \"\", DTree_scores_ROC.std())\n",
        "print(\"Precision: \", np.mean(DTree_scores_precision))\n",
        "print(\"Recall: \", np.mean(DTree_scores_recall))\n",
        "print(\"Sensitivity: \", np.mean(DTree_scores_recall))\n",
        "print(\"Specificity: \", np.mean(DTree_scores_specificity))\n",
        "print(\"f1-measure: \", np.mean(DTree_scores_f1))"
      ],
      "execution_count": null,
      "outputs": [
        {
          "output_type": "stream",
          "text": [
            "Accuracy 0.7734417174063147\n",
            "AUC:  0.7746282677430477  0.06432177621325617\n",
            "Precision:  0.7279548003005607\n",
            "Recall:  0.7035965885223835\n",
            "Sensitivity:  0.7035965885223835\n",
            "Specificity:  0.8194674583360225\n",
            "f1-measure:  0.7098664031643633\n"
          ],
          "name": "stdout"
        }
      ]
    },
    {
      "cell_type": "markdown",
      "metadata": {
        "id": "ElBOMNiyWjNi"
      },
      "source": [
        "Decision Tree Splitting training and testing (70%, 30%)"
      ]
    },
    {
      "cell_type": "code",
      "metadata": {
        "colab": {
          "base_uri": "https://localhost:8080/"
        },
        "id": "SfB9bSxnUWYx",
        "outputId": "df9c379b-f473-4daf-dc86-b7d12f692c07"
      },
      "source": [
        "#Decision Tree Splitting training and testing (70%, 30%)\n",
        "DTree.fit(X_train, y_train)\n",
        "y_pred = DTree.predict(X_test)\n",
        "DTree_scores2 = metrics.accuracy_score(y_test, y_pred)\n",
        "\n",
        "tn, fp, fn, tp = matrix = confusion_matrix(y_test, y_pred).ravel()\n",
        "\n",
        "DTree_roc = roc_auc_score(y_test, y_pred)\n",
        "DTree_precision=tp/(tp+fp)\n",
        "DTree_recall=tp/(tp+fn)\n",
        "DTree_nvp=tn/(tn+fn)\n",
        "DTree_specificity=tn/(tn+fp)\n",
        "DTree_f1measure=2*(DTree_precision*DTree_recall)/(DTree_precision+DTree_recall)\n",
        "\n",
        "print(\"Accuracy\", DTree_scores2)\n",
        "print(\"ROC: \", DTree_roc)\n",
        "print(\"Precision: \", DTree_precision)\n",
        "print(\"Recall: \", DTree_recall)\n",
        "print(\"Sensitivity: \", DTree_recall)\n",
        "print(\"Specificity: \", DTree_specificity)\n",
        "print(\"F1-Measure: \", DTree_f1measure)"
      ],
      "execution_count": null,
      "outputs": [
        {
          "output_type": "stream",
          "text": [
            "Accuracy 0.7835820895522388\n",
            "ROC:  0.760595238095238\n",
            "Precision:  0.7282608695652174\n",
            "Recall:  0.67\n",
            "Sensitivity:  0.67\n",
            "Specificity:  0.8511904761904762\n",
            "F1-Measure:  0.6979166666666667\n"
          ],
          "name": "stdout"
        }
      ]
    },
    {
      "cell_type": "markdown",
      "metadata": {
        "id": "ciQ--MShWmjs"
      },
      "source": [
        "SVM 5-FOLD VALIDATION"
      ]
    },
    {
      "cell_type": "code",
      "metadata": {
        "colab": {
          "base_uri": "https://localhost:8080/"
        },
        "id": "NYnIohFMZH2L",
        "outputId": "e7a606ec-bc16-4d18-ca6f-80188b879571"
      },
      "source": [
        "#SVM 5-FOLD VALIDATION\n",
        "SVM = SVC()\n",
        "SVM_scores = cross_val_score(SVM, Xzscore, y, scoring = 'accuracy', cv=kf)\n",
        "SVM_scores_ROC = cross_val_score(SVM, Xzscore, y, scoring = 'roc_auc', cv=kf)\n",
        "SVM_scores_ROC = cross_val_score(SVM, Xzscore, y, scoring = 'roc_auc', cv=kf)\n",
        "SVM_scores_precision = cross_val_score(SVM, Xzscore, y, scoring = 'precision', cv=kf)\n",
        "SVM_scores_recall = cross_val_score(SVM, Xzscore, y, scoring = 'recall', cv=kf)\n",
        "SVM_scores_specificity = cross_val_score(SVM, Xzscore, y, scoring = specificity, cv=kf)\n",
        "SVM_scores_f1 = cross_val_score(SVM, Xzscore, y, scoring = 'f1', cv=kf)\n",
        "\n",
        "print(\"Accuracy: \", np.mean(SVM_scores))\n",
        "print(\"AUC: \", SVM_scores_ROC.mean(), \"\", SVM_scores_ROC.std())\n",
        "print(\"Precision: \", np.mean(SVM_scores_precision))\n",
        "print(\"Recall: \", np.mean(SVM_scores_recall))\n",
        "print(\"Sensitivity: \", np.mean(SVM_scores_recall))\n",
        "print(\"Specificity: \", np.mean(SVM_scores_specificity))\n",
        "print(\"f1-measure: \", np.mean(SVM_scores_f1))"
      ],
      "execution_count": null,
      "outputs": [
        {
          "output_type": "stream",
          "text": [
            "Accuracy:  0.8282844768062269\n",
            "AUC:  0.8694170569970623  0.02870590280826937\n",
            "Precision:  0.7875557379801863\n",
            "Recall:  0.7598022902403376\n",
            "Sensitivity:  0.7598022902403376\n",
            "Specificity:  0.8721726165022672\n",
            "f1-measure:  0.7711976710287328\n"
          ],
          "name": "stdout"
        }
      ]
    },
    {
      "cell_type": "markdown",
      "metadata": {
        "id": "JGBi18neWocP"
      },
      "source": [
        "SVM Splitting training and testing (70%, 30%)"
      ]
    },
    {
      "cell_type": "code",
      "metadata": {
        "colab": {
          "base_uri": "https://localhost:8080/"
        },
        "id": "X1DcFeBwUm5h",
        "outputId": "4e514518-d83c-4aec-8eb9-7965fb8a3831"
      },
      "source": [
        "#SVM Splitting training and testing (70%, 30%)\n",
        "SVM.fit(X_train, y_train)\n",
        "y_pred = SVM.predict(X_test)\n",
        "SVM_scores2 = metrics.accuracy_score(y_test, y_pred)\n",
        "\n",
        "tn, fp, fn, tp = matrix = confusion_matrix(y_test, y_pred).ravel()\n",
        "\n",
        "SVM_roc = roc_auc_score(y_test, y_pred)\n",
        "SVM_precision=tp/(tp+fp)\n",
        "SVM_recall=tp/(tp+fn)\n",
        "SVM_nvp=tn/(tn+fn)\n",
        "SVM_specificity=tn/(tn+fp)\n",
        "SVM_f1measure=2*(SVM_precision*SVM_recall)/(SVM_precision+SVM_recall)\n",
        "\n",
        "print(\"Accuracy: \", SVM_scores2)\n",
        "print(\"ROC: \", SVM_roc)\n",
        "print(\"Precision: \", SVM_precision)\n",
        "print(\"Recall: \", SVM_recall)\n",
        "print(\"Sensitivity: \", SVM_recall)\n",
        "print(\"Specificity: \", SVM_specificity)\n",
        "print(\"F1-Measure: \", SVM_f1measure)"
      ],
      "execution_count": null,
      "outputs": [
        {
          "output_type": "stream",
          "text": [
            "Accuracy:  0.8134328358208955\n",
            "ROC:  0.7965476190476192\n",
            "Precision:  0.7604166666666666\n",
            "Recall:  0.73\n",
            "Sensitivity:  0.73\n",
            "Specificity:  0.8630952380952381\n",
            "F1-Measure:  0.7448979591836735\n"
          ],
          "name": "stdout"
        }
      ]
    }
  ]
}