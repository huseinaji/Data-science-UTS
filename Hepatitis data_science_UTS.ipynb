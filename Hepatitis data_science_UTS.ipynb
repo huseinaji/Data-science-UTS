{
  "nbformat": 4,
  "nbformat_minor": 0,
  "metadata": {
    "colab": {
      "name": "data science UTS.ipynb",
      "provenance": [],
      "collapsed_sections": []
    },
    "kernelspec": {
      "name": "python3",
      "display_name": "Python 3"
    },
    "language_info": {
      "name": "python"
    }
  },
  "cells": [
    {
      "cell_type": "markdown",
      "metadata": {
        "id": "ZpIzhfjpDnPU"
      },
      "source": [
        "# DATA SCIENCE UTS\n",
        "TUGAS\n",
        "\n",
        "*   Dari dataset, training data dengan 4 metode ML (KNN, Naive Bayes, Decision Tree, dan SVM)\n",
        "*   Gunakan 5 fold cross validation dan splitting training dan testing dengan perbandingan 70%, 30%\n",
        "\n",
        "*   Gunakan Measurement dengan metrix Akurasi, ROC-curve, precision, recall, Sensitivity, specificity, dan F1-Measurement\n",
        "\n",
        "\n",
        "\n",
        "\n",
        "\n",
        "\n",
        "\n",
        " \n"
      ]
    },
    {
      "cell_type": "code",
      "metadata": {
        "id": "EjDtmImCg_To"
      },
      "source": [
        "#Import Library yang akan digunakan\n",
        "import pandas as pd\n",
        "import numpy as np\n",
        "from sklearn import metrics\n",
        "from sklearn import preprocessing\n",
        "from sklearn.neighbors import KNeighborsClassifier\n",
        "from sklearn.model_selection import train_test_split\n",
        "from sklearn.naive_bayes import GaussianNB\n",
        "from sklearn.tree import DecisionTreeClassifier\n",
        "from sklearn.model_selection import cross_val_score\n",
        "from sklearn.model_selection import KFold\n",
        "from sklearn.svm import SVC\n",
        "from sklearn.metrics import classification_report\n",
        "from sklearn.metrics import confusion_matrix\n",
        "from sklearn.metrics import roc_auc_score\n",
        "from sklearn.metrics import recall_score\n",
        "from sklearn.metrics import make_scorer"
      ],
      "execution_count": null,
      "outputs": []
    },
    {
      "cell_type": "markdown",
      "metadata": {
        "id": "w4l09H7xEB4Q"
      },
      "source": [
        "Melihat isi dataset"
      ]
    },
    {
      "cell_type": "code",
      "metadata": {
        "colab": {
          "base_uri": "https://localhost:8080/",
          "height": 456
        },
        "id": "hVdExsvVhH8k",
        "outputId": "9205e285-a17c-4d67-eee6-d042b0d8a405"
      },
      "source": [
        "dataset = pd.read_csv('datasetUTS.csv', na_values='?')\n",
        "ds = dataset.copy()\n",
        "dataset"
      ],
      "execution_count": null,
      "outputs": [
        {
          "output_type": "execute_result",
          "data": {
            "text/html": [
              "<div>\n",
              "<style scoped>\n",
              "    .dataframe tbody tr th:only-of-type {\n",
              "        vertical-align: middle;\n",
              "    }\n",
              "\n",
              "    .dataframe tbody tr th {\n",
              "        vertical-align: top;\n",
              "    }\n",
              "\n",
              "    .dataframe thead th {\n",
              "        text-align: right;\n",
              "    }\n",
              "</style>\n",
              "<table border=\"1\" class=\"dataframe\">\n",
              "  <thead>\n",
              "    <tr style=\"text-align: right;\">\n",
              "      <th></th>\n",
              "      <th>Class</th>\n",
              "      <th>AGE</th>\n",
              "      <th>SEX</th>\n",
              "      <th>STEROID</th>\n",
              "      <th>ANTIVIRALS</th>\n",
              "      <th>FATIGUE</th>\n",
              "      <th>MALAISE</th>\n",
              "      <th>ANOREXIA</th>\n",
              "      <th>LIVER BIG</th>\n",
              "      <th>LIVER FIRM</th>\n",
              "      <th>SPLEEN PALPABLE</th>\n",
              "      <th>SPIDERS</th>\n",
              "      <th>ASCITES</th>\n",
              "      <th>VARICES</th>\n",
              "      <th>BILIRUBIN</th>\n",
              "      <th>ALK PHOSPHATE</th>\n",
              "      <th>SGOT</th>\n",
              "      <th>ALBUMIN</th>\n",
              "      <th>PROTIME</th>\n",
              "      <th>HISTOLOGY</th>\n",
              "    </tr>\n",
              "  </thead>\n",
              "  <tbody>\n",
              "    <tr>\n",
              "      <th>0</th>\n",
              "      <td>2</td>\n",
              "      <td>34</td>\n",
              "      <td>1</td>\n",
              "      <td>2</td>\n",
              "      <td>2</td>\n",
              "      <td>2</td>\n",
              "      <td>2</td>\n",
              "      <td>2</td>\n",
              "      <td>2</td>\n",
              "      <td>2</td>\n",
              "      <td>2</td>\n",
              "      <td>2</td>\n",
              "      <td>2</td>\n",
              "      <td>2</td>\n",
              "      <td>0.9</td>\n",
              "      <td>95</td>\n",
              "      <td>28</td>\n",
              "      <td>4.0</td>\n",
              "      <td>75</td>\n",
              "      <td>1</td>\n",
              "    </tr>\n",
              "    <tr>\n",
              "      <th>1</th>\n",
              "      <td>2</td>\n",
              "      <td>39</td>\n",
              "      <td>1</td>\n",
              "      <td>1</td>\n",
              "      <td>1</td>\n",
              "      <td>2</td>\n",
              "      <td>2</td>\n",
              "      <td>2</td>\n",
              "      <td>1</td>\n",
              "      <td>1</td>\n",
              "      <td>2</td>\n",
              "      <td>2</td>\n",
              "      <td>2</td>\n",
              "      <td>2</td>\n",
              "      <td>1.3</td>\n",
              "      <td>78</td>\n",
              "      <td>30</td>\n",
              "      <td>4.4</td>\n",
              "      <td>85</td>\n",
              "      <td>1</td>\n",
              "    </tr>\n",
              "    <tr>\n",
              "      <th>2</th>\n",
              "      <td>2</td>\n",
              "      <td>32</td>\n",
              "      <td>1</td>\n",
              "      <td>2</td>\n",
              "      <td>1</td>\n",
              "      <td>1</td>\n",
              "      <td>2</td>\n",
              "      <td>2</td>\n",
              "      <td>2</td>\n",
              "      <td>1</td>\n",
              "      <td>2</td>\n",
              "      <td>1</td>\n",
              "      <td>2</td>\n",
              "      <td>2</td>\n",
              "      <td>1.0</td>\n",
              "      <td>59</td>\n",
              "      <td>249</td>\n",
              "      <td>3.7</td>\n",
              "      <td>54</td>\n",
              "      <td>1</td>\n",
              "    </tr>\n",
              "    <tr>\n",
              "      <th>3</th>\n",
              "      <td>2</td>\n",
              "      <td>41</td>\n",
              "      <td>1</td>\n",
              "      <td>2</td>\n",
              "      <td>1</td>\n",
              "      <td>1</td>\n",
              "      <td>2</td>\n",
              "      <td>2</td>\n",
              "      <td>2</td>\n",
              "      <td>1</td>\n",
              "      <td>2</td>\n",
              "      <td>2</td>\n",
              "      <td>2</td>\n",
              "      <td>2</td>\n",
              "      <td>0.9</td>\n",
              "      <td>81</td>\n",
              "      <td>60</td>\n",
              "      <td>3.9</td>\n",
              "      <td>52</td>\n",
              "      <td>1</td>\n",
              "    </tr>\n",
              "    <tr>\n",
              "      <th>4</th>\n",
              "      <td>2</td>\n",
              "      <td>30</td>\n",
              "      <td>1</td>\n",
              "      <td>2</td>\n",
              "      <td>2</td>\n",
              "      <td>1</td>\n",
              "      <td>2</td>\n",
              "      <td>2</td>\n",
              "      <td>2</td>\n",
              "      <td>1</td>\n",
              "      <td>2</td>\n",
              "      <td>2</td>\n",
              "      <td>2</td>\n",
              "      <td>2</td>\n",
              "      <td>2.2</td>\n",
              "      <td>57</td>\n",
              "      <td>144</td>\n",
              "      <td>4.9</td>\n",
              "      <td>78</td>\n",
              "      <td>1</td>\n",
              "    </tr>\n",
              "    <tr>\n",
              "      <th>...</th>\n",
              "      <td>...</td>\n",
              "      <td>...</td>\n",
              "      <td>...</td>\n",
              "      <td>...</td>\n",
              "      <td>...</td>\n",
              "      <td>...</td>\n",
              "      <td>...</td>\n",
              "      <td>...</td>\n",
              "      <td>...</td>\n",
              "      <td>...</td>\n",
              "      <td>...</td>\n",
              "      <td>...</td>\n",
              "      <td>...</td>\n",
              "      <td>...</td>\n",
              "      <td>...</td>\n",
              "      <td>...</td>\n",
              "      <td>...</td>\n",
              "      <td>...</td>\n",
              "      <td>...</td>\n",
              "      <td>...</td>\n",
              "    </tr>\n",
              "    <tr>\n",
              "      <th>75</th>\n",
              "      <td>2</td>\n",
              "      <td>45</td>\n",
              "      <td>1</td>\n",
              "      <td>2</td>\n",
              "      <td>1</td>\n",
              "      <td>2</td>\n",
              "      <td>2</td>\n",
              "      <td>2</td>\n",
              "      <td>2</td>\n",
              "      <td>2</td>\n",
              "      <td>2</td>\n",
              "      <td>2</td>\n",
              "      <td>2</td>\n",
              "      <td>2</td>\n",
              "      <td>1.3</td>\n",
              "      <td>85</td>\n",
              "      <td>44</td>\n",
              "      <td>4.2</td>\n",
              "      <td>85</td>\n",
              "      <td>2</td>\n",
              "    </tr>\n",
              "    <tr>\n",
              "      <th>76</th>\n",
              "      <td>1</td>\n",
              "      <td>49</td>\n",
              "      <td>1</td>\n",
              "      <td>1</td>\n",
              "      <td>2</td>\n",
              "      <td>1</td>\n",
              "      <td>1</td>\n",
              "      <td>2</td>\n",
              "      <td>2</td>\n",
              "      <td>2</td>\n",
              "      <td>1</td>\n",
              "      <td>1</td>\n",
              "      <td>2</td>\n",
              "      <td>2</td>\n",
              "      <td>1.4</td>\n",
              "      <td>85</td>\n",
              "      <td>70</td>\n",
              "      <td>3.5</td>\n",
              "      <td>35</td>\n",
              "      <td>2</td>\n",
              "    </tr>\n",
              "    <tr>\n",
              "      <th>77</th>\n",
              "      <td>2</td>\n",
              "      <td>31</td>\n",
              "      <td>1</td>\n",
              "      <td>1</td>\n",
              "      <td>2</td>\n",
              "      <td>1</td>\n",
              "      <td>2</td>\n",
              "      <td>2</td>\n",
              "      <td>2</td>\n",
              "      <td>2</td>\n",
              "      <td>2</td>\n",
              "      <td>2</td>\n",
              "      <td>2</td>\n",
              "      <td>2</td>\n",
              "      <td>1.2</td>\n",
              "      <td>75</td>\n",
              "      <td>173</td>\n",
              "      <td>4.2</td>\n",
              "      <td>54</td>\n",
              "      <td>2</td>\n",
              "    </tr>\n",
              "    <tr>\n",
              "      <th>78</th>\n",
              "      <td>2</td>\n",
              "      <td>53</td>\n",
              "      <td>2</td>\n",
              "      <td>1</td>\n",
              "      <td>2</td>\n",
              "      <td>1</td>\n",
              "      <td>2</td>\n",
              "      <td>2</td>\n",
              "      <td>2</td>\n",
              "      <td>2</td>\n",
              "      <td>1</td>\n",
              "      <td>1</td>\n",
              "      <td>2</td>\n",
              "      <td>1</td>\n",
              "      <td>1.5</td>\n",
              "      <td>81</td>\n",
              "      <td>19</td>\n",
              "      <td>4.1</td>\n",
              "      <td>48</td>\n",
              "      <td>2</td>\n",
              "    </tr>\n",
              "    <tr>\n",
              "      <th>79</th>\n",
              "      <td>1</td>\n",
              "      <td>43</td>\n",
              "      <td>1</td>\n",
              "      <td>2</td>\n",
              "      <td>2</td>\n",
              "      <td>1</td>\n",
              "      <td>2</td>\n",
              "      <td>2</td>\n",
              "      <td>2</td>\n",
              "      <td>2</td>\n",
              "      <td>1</td>\n",
              "      <td>1</td>\n",
              "      <td>1</td>\n",
              "      <td>2</td>\n",
              "      <td>1.2</td>\n",
              "      <td>100</td>\n",
              "      <td>19</td>\n",
              "      <td>3.1</td>\n",
              "      <td>42</td>\n",
              "      <td>2</td>\n",
              "    </tr>\n",
              "  </tbody>\n",
              "</table>\n",
              "<p>80 rows × 20 columns</p>\n",
              "</div>"
            ],
            "text/plain": [
              "    Class  AGE  SEX  STEROID  ...  SGOT  ALBUMIN  PROTIME  HISTOLOGY\n",
              "0       2   34    1        2  ...    28      4.0       75          1\n",
              "1       2   39    1        1  ...    30      4.4       85          1\n",
              "2       2   32    1        2  ...   249      3.7       54          1\n",
              "3       2   41    1        2  ...    60      3.9       52          1\n",
              "4       2   30    1        2  ...   144      4.9       78          1\n",
              "..    ...  ...  ...      ...  ...   ...      ...      ...        ...\n",
              "75      2   45    1        2  ...    44      4.2       85          2\n",
              "76      1   49    1        1  ...    70      3.5       35          2\n",
              "77      2   31    1        1  ...   173      4.2       54          2\n",
              "78      2   53    2        1  ...    19      4.1       48          2\n",
              "79      1   43    1        2  ...    19      3.1       42          2\n",
              "\n",
              "[80 rows x 20 columns]"
            ]
          },
          "metadata": {
            "tags": []
          },
          "execution_count": 3
        }
      ]
    },
    {
      "cell_type": "markdown",
      "metadata": {
        "id": "VZyx_z8rE_2-"
      },
      "source": [
        "Membagi dataset menjadi variable X untuk data training dan y untuk label"
      ]
    },
    {
      "cell_type": "code",
      "metadata": {
        "id": "u8qVS9pQh5Um"
      },
      "source": [
        "X, y = ds.drop(columns=['Class']), ds.Class"
      ],
      "execution_count": null,
      "outputs": []
    },
    {
      "cell_type": "code",
      "metadata": {
        "colab": {
          "base_uri": "https://localhost:8080/",
          "height": 334
        },
        "id": "IB4DLXedmLQY",
        "outputId": "4f6366e7-9f99-428b-e593-6002b03e7c02"
      },
      "source": [
        "ds.describe()"
      ],
      "execution_count": null,
      "outputs": [
        {
          "output_type": "execute_result",
          "data": {
            "text/html": [
              "<div>\n",
              "<style scoped>\n",
              "    .dataframe tbody tr th:only-of-type {\n",
              "        vertical-align: middle;\n",
              "    }\n",
              "\n",
              "    .dataframe tbody tr th {\n",
              "        vertical-align: top;\n",
              "    }\n",
              "\n",
              "    .dataframe thead th {\n",
              "        text-align: right;\n",
              "    }\n",
              "</style>\n",
              "<table border=\"1\" class=\"dataframe\">\n",
              "  <thead>\n",
              "    <tr style=\"text-align: right;\">\n",
              "      <th></th>\n",
              "      <th>Class</th>\n",
              "      <th>AGE</th>\n",
              "      <th>SEX</th>\n",
              "      <th>STEROID</th>\n",
              "      <th>ANTIVIRALS</th>\n",
              "      <th>FATIGUE</th>\n",
              "      <th>MALAISE</th>\n",
              "      <th>ANOREXIA</th>\n",
              "      <th>LIVER BIG</th>\n",
              "      <th>LIVER FIRM</th>\n",
              "      <th>SPLEEN PALPABLE</th>\n",
              "      <th>SPIDERS</th>\n",
              "      <th>ASCITES</th>\n",
              "      <th>VARICES</th>\n",
              "      <th>BILIRUBIN</th>\n",
              "      <th>ALK PHOSPHATE</th>\n",
              "      <th>SGOT</th>\n",
              "      <th>ALBUMIN</th>\n",
              "      <th>PROTIME</th>\n",
              "      <th>HISTOLOGY</th>\n",
              "    </tr>\n",
              "  </thead>\n",
              "  <tbody>\n",
              "    <tr>\n",
              "      <th>count</th>\n",
              "      <td>80.000000</td>\n",
              "      <td>80.000000</td>\n",
              "      <td>80.000000</td>\n",
              "      <td>80.000000</td>\n",
              "      <td>80.000000</td>\n",
              "      <td>80.000000</td>\n",
              "      <td>80.000000</td>\n",
              "      <td>80.000000</td>\n",
              "      <td>80.000000</td>\n",
              "      <td>80.000000</td>\n",
              "      <td>80.000000</td>\n",
              "      <td>80.000000</td>\n",
              "      <td>80.000000</td>\n",
              "      <td>80.000000</td>\n",
              "      <td>80.000000</td>\n",
              "      <td>80.000000</td>\n",
              "      <td>80.000000</td>\n",
              "      <td>80.000000</td>\n",
              "      <td>80.000000</td>\n",
              "      <td>80.00000</td>\n",
              "    </tr>\n",
              "    <tr>\n",
              "      <th>mean</th>\n",
              "      <td>0.837500</td>\n",
              "      <td>0.397356</td>\n",
              "      <td>0.137500</td>\n",
              "      <td>0.525000</td>\n",
              "      <td>0.737500</td>\n",
              "      <td>0.350000</td>\n",
              "      <td>0.612500</td>\n",
              "      <td>0.850000</td>\n",
              "      <td>0.837500</td>\n",
              "      <td>0.525000</td>\n",
              "      <td>0.812500</td>\n",
              "      <td>0.687500</td>\n",
              "      <td>0.850000</td>\n",
              "      <td>0.875000</td>\n",
              "      <td>0.204722</td>\n",
              "      <td>0.302805</td>\n",
              "      <td>0.167549</td>\n",
              "      <td>0.601293</td>\n",
              "      <td>0.625125</td>\n",
              "      <td>0.41250</td>\n",
              "    </tr>\n",
              "    <tr>\n",
              "      <th>std</th>\n",
              "      <td>0.371236</td>\n",
              "      <td>0.216924</td>\n",
              "      <td>0.346547</td>\n",
              "      <td>0.502525</td>\n",
              "      <td>0.442769</td>\n",
              "      <td>0.479979</td>\n",
              "      <td>0.490253</td>\n",
              "      <td>0.359324</td>\n",
              "      <td>0.371236</td>\n",
              "      <td>0.502525</td>\n",
              "      <td>0.392775</td>\n",
              "      <td>0.466437</td>\n",
              "      <td>0.359324</td>\n",
              "      <td>0.332805</td>\n",
              "      <td>0.194492</td>\n",
              "      <td>0.211357</td>\n",
              "      <td>0.176355</td>\n",
              "      <td>0.198721</td>\n",
              "      <td>0.234278</td>\n",
              "      <td>0.49539</td>\n",
              "    </tr>\n",
              "    <tr>\n",
              "      <th>min</th>\n",
              "      <td>0.000000</td>\n",
              "      <td>0.000000</td>\n",
              "      <td>0.000000</td>\n",
              "      <td>0.000000</td>\n",
              "      <td>0.000000</td>\n",
              "      <td>0.000000</td>\n",
              "      <td>0.000000</td>\n",
              "      <td>0.000000</td>\n",
              "      <td>0.000000</td>\n",
              "      <td>0.000000</td>\n",
              "      <td>0.000000</td>\n",
              "      <td>0.000000</td>\n",
              "      <td>0.000000</td>\n",
              "      <td>0.000000</td>\n",
              "      <td>0.000000</td>\n",
              "      <td>0.000000</td>\n",
              "      <td>0.000000</td>\n",
              "      <td>0.000000</td>\n",
              "      <td>0.000000</td>\n",
              "      <td>0.00000</td>\n",
              "    </tr>\n",
              "    <tr>\n",
              "      <th>25%</th>\n",
              "      <td>1.000000</td>\n",
              "      <td>0.230769</td>\n",
              "      <td>0.000000</td>\n",
              "      <td>0.000000</td>\n",
              "      <td>0.000000</td>\n",
              "      <td>0.000000</td>\n",
              "      <td>0.000000</td>\n",
              "      <td>1.000000</td>\n",
              "      <td>1.000000</td>\n",
              "      <td>0.000000</td>\n",
              "      <td>1.000000</td>\n",
              "      <td>0.000000</td>\n",
              "      <td>1.000000</td>\n",
              "      <td>1.000000</td>\n",
              "      <td>0.088889</td>\n",
              "      <td>0.166339</td>\n",
              "      <td>0.041256</td>\n",
              "      <td>0.482759</td>\n",
              "      <td>0.460000</td>\n",
              "      <td>0.00000</td>\n",
              "    </tr>\n",
              "    <tr>\n",
              "      <th>50%</th>\n",
              "      <td>1.000000</td>\n",
              "      <td>0.355769</td>\n",
              "      <td>0.000000</td>\n",
              "      <td>1.000000</td>\n",
              "      <td>1.000000</td>\n",
              "      <td>0.000000</td>\n",
              "      <td>1.000000</td>\n",
              "      <td>1.000000</td>\n",
              "      <td>1.000000</td>\n",
              "      <td>1.000000</td>\n",
              "      <td>1.000000</td>\n",
              "      <td>1.000000</td>\n",
              "      <td>1.000000</td>\n",
              "      <td>1.000000</td>\n",
              "      <td>0.155556</td>\n",
              "      <td>0.232283</td>\n",
              "      <td>0.104680</td>\n",
              "      <td>0.655172</td>\n",
              "      <td>0.620000</td>\n",
              "      <td>0.00000</td>\n",
              "    </tr>\n",
              "    <tr>\n",
              "      <th>75%</th>\n",
              "      <td>1.000000</td>\n",
              "      <td>0.562500</td>\n",
              "      <td>0.000000</td>\n",
              "      <td>1.000000</td>\n",
              "      <td>1.000000</td>\n",
              "      <td>1.000000</td>\n",
              "      <td>1.000000</td>\n",
              "      <td>1.000000</td>\n",
              "      <td>1.000000</td>\n",
              "      <td>1.000000</td>\n",
              "      <td>1.000000</td>\n",
              "      <td>1.000000</td>\n",
              "      <td>1.000000</td>\n",
              "      <td>1.000000</td>\n",
              "      <td>0.222222</td>\n",
              "      <td>0.423228</td>\n",
              "      <td>0.218596</td>\n",
              "      <td>0.724138</td>\n",
              "      <td>0.772500</td>\n",
              "      <td>1.00000</td>\n",
              "    </tr>\n",
              "    <tr>\n",
              "      <th>max</th>\n",
              "      <td>1.000000</td>\n",
              "      <td>1.000000</td>\n",
              "      <td>1.000000</td>\n",
              "      <td>1.000000</td>\n",
              "      <td>1.000000</td>\n",
              "      <td>1.000000</td>\n",
              "      <td>1.000000</td>\n",
              "      <td>1.000000</td>\n",
              "      <td>1.000000</td>\n",
              "      <td>1.000000</td>\n",
              "      <td>1.000000</td>\n",
              "      <td>1.000000</td>\n",
              "      <td>1.000000</td>\n",
              "      <td>1.000000</td>\n",
              "      <td>1.000000</td>\n",
              "      <td>1.000000</td>\n",
              "      <td>1.000000</td>\n",
              "      <td>1.000000</td>\n",
              "      <td>1.000000</td>\n",
              "      <td>1.00000</td>\n",
              "    </tr>\n",
              "  </tbody>\n",
              "</table>\n",
              "</div>"
            ],
            "text/plain": [
              "           Class        AGE        SEX  ...    ALBUMIN    PROTIME  HISTOLOGY\n",
              "count  80.000000  80.000000  80.000000  ...  80.000000  80.000000   80.00000\n",
              "mean    0.837500   0.397356   0.137500  ...   0.601293   0.625125    0.41250\n",
              "std     0.371236   0.216924   0.346547  ...   0.198721   0.234278    0.49539\n",
              "min     0.000000   0.000000   0.000000  ...   0.000000   0.000000    0.00000\n",
              "25%     1.000000   0.230769   0.000000  ...   0.482759   0.460000    0.00000\n",
              "50%     1.000000   0.355769   0.000000  ...   0.655172   0.620000    0.00000\n",
              "75%     1.000000   0.562500   0.000000  ...   0.724138   0.772500    1.00000\n",
              "max     1.000000   1.000000   1.000000  ...   1.000000   1.000000    1.00000\n",
              "\n",
              "[8 rows x 20 columns]"
            ]
          },
          "metadata": {
            "tags": []
          },
          "execution_count": 46
        }
      ]
    },
    {
      "cell_type": "markdown",
      "metadata": {
        "id": "oTF9a0o7Irhq"
      },
      "source": [
        "KNN dengan 5 fold cross validation"
      ]
    },
    {
      "cell_type": "code",
      "metadata": {
        "colab": {
          "base_uri": "https://localhost:8080/"
        },
        "id": "CP_2WF7OiTi0",
        "outputId": "2070ecf0-f092-4665-85c5-cc7dbbd58a15"
      },
      "source": [
        "specificity = make_scorer(recall_score, pos_label=2)\n",
        "kf = KFold(n_splits=5, random_state=7, shuffle=True)\n",
        "#KNN\n",
        "knn = KNeighborsClassifier(n_neighbors=5)\n",
        "knn_scores = cross_val_score(knn, X, y, scoring = 'accuracy', cv = kf)\n",
        "knn_scores_ROC = cross_val_score(knn, X, y, scoring = 'roc_auc', cv=kf)\n",
        "knn_scores_precision = cross_val_score(knn, X, y, scoring = 'precision', cv=kf)\n",
        "knn_scores_recall = cross_val_score(knn, X, y, scoring = 'recall', cv=kf)\n",
        "knn_scores_specificity = cross_val_score(knn, X, y, scoring = specificity, cv=kf)\n",
        "knn_scores_f1 = cross_val_score(knn, X, y, scoring = 'f1', cv=kf)\n",
        "\n",
        "print(\"Accuracy: \", np.mean(knn_scores))\n",
        "print(\"AUC: \", knn_scores_ROC.mean(), \"\", knn_scores_ROC.std())\n",
        "print(\"Precision: \", np.mean(knn_scores_precision))\n",
        "print(\"Recall: \", np.mean(knn_scores_recall))\n",
        "print(\"Sensitivity: \", np.mean(knn_scores_recall))\n",
        "print(\"Specificity: \", np.mean(knn_scores_specificity))\n",
        "print(\"f1-measure: \", np.mean(knn_scores_f1))"
      ],
      "execution_count": null,
      "outputs": [
        {
          "output_type": "stream",
          "text": [
            "Accuracy:  0.8125\n",
            "AUC:  0.7530652680652681  0.1041895199952217\n",
            "Precision:  0.2\n",
            "Recall:  0.1\n",
            "Sensitivity:  0.1\n",
            "Specificity:  0.9531002331002332\n",
            "f1-measure:  0.13333333333333333\n"
          ],
          "name": "stdout"
        },
        {
          "output_type": "stream",
          "text": [
            "/usr/local/lib/python3.7/dist-packages/sklearn/metrics/_classification.py:1272: UndefinedMetricWarning: Precision is ill-defined and being set to 0.0 due to no predicted samples. Use `zero_division` parameter to control this behavior.\n",
            "  _warn_prf(average, modifier, msg_start, len(result))\n"
          ],
          "name": "stderr"
        }
      ]
    },
    {
      "cell_type": "markdown",
      "metadata": {
        "id": "SMYyiqtuIwUq"
      },
      "source": [
        "KNN dengan sampling data 70 dan 30 untuk train dan test"
      ]
    },
    {
      "cell_type": "code",
      "metadata": {
        "colab": {
          "base_uri": "https://localhost:8080/"
        },
        "id": "j-tt3YRujAk8",
        "outputId": "e0b924cc-01bd-4455-d291-c38b306dd900"
      },
      "source": [
        "X_train, X_test, y_train, y_test = train_test_split(X, y, test_size=0.30, random_state=0)\n",
        "knn.fit(X_train, y_train)\n",
        "y_pred = knn.predict(X_test)\n",
        "knn_scores2 = metrics.accuracy_score(y_test, y_pred)\n",
        "\n",
        "tn, fp, fn, tp = matrix = confusion_matrix(y_test, y_pred).ravel()\n",
        "knn_roc = roc_auc_score(y_test, y_pred)\n",
        "knn_precision=tp/(tp+fp)\n",
        "knn_recall=tp/(tp+fn)\n",
        "knn_nvp=tn/(tn+fn)\n",
        "knn_specificity=tn/(tn+fp)\n",
        "knn_f1measure=2*(knn_precision*knn_recall)/(knn_precision+knn_recall)\n",
        "\n",
        "print(\"Accuracy: \", knn_scores2)\n",
        "print(\"ROC: \", knn_roc)\n",
        "print(\"Precision: \", knn_precision)\n",
        "print(\"Recall: \", knn_recall)\n",
        "print(\"Sensitivity: \", knn_recall)\n",
        "print(\"Specificity: \", knn_specificity)\n",
        "print(\"F1-Measure: \", knn_f1measure)"
      ],
      "execution_count": null,
      "outputs": [
        {
          "output_type": "stream",
          "text": [
            "Accuracy:  0.7916666666666666\n",
            "ROC:  0.475\n",
            "Precision:  0.8260869565217391\n",
            "Recall:  0.95\n",
            "Sensitivity:  0.95\n",
            "Specificity:  0.0\n",
            "F1-Measure:  0.8837209302325583\n"
          ],
          "name": "stdout"
        }
      ]
    },
    {
      "cell_type": "markdown",
      "metadata": {
        "id": "2eRNk2uzJWdp"
      },
      "source": [
        "NAIVE BAYES dengan 5 fold Validation"
      ]
    },
    {
      "cell_type": "code",
      "metadata": {
        "colab": {
          "base_uri": "https://localhost:8080/"
        },
        "id": "2nTIKZsDjReh",
        "outputId": "10e92dde-2281-4b46-edb9-98518339eed0"
      },
      "source": [
        "#Naive Bayes\n",
        "NB = GaussianNB()\n",
        "NB_scores = cross_val_score(NB, X, y, scoring = 'accuracy', cv=kf)\n",
        "NB_scores_ROC = cross_val_score(NB, X, y, scoring = 'roc_auc', cv=kf)\n",
        "NB_scores_precision = cross_val_score(NB, X, y, scoring = 'precision', cv=kf)\n",
        "NB_scores_recall = cross_val_score(NB, X, y, scoring = 'recall', cv=kf)\n",
        "NB_scores_specificity = cross_val_score(NB, X, y, scoring = specificity, cv=kf)\n",
        "NB_scores_f1 = cross_val_score(NB, X, y, scoring = 'f1', cv=kf)\n",
        "\n",
        "print(\"Accuracy: \", np.mean(NB_scores))\n",
        "print(\"AUC: \", NB_scores_ROC.mean(), \"\", NB_scores_ROC.std())\n",
        "print(\"Precision: \", np.mean(NB_scores_precision))\n",
        "print(\"Recall: \", np.mean(NB_scores_recall))\n",
        "print(\"Sensitivity: \", np.mean(NB_scores_recall))\n",
        "print(\"Specificity: \", np.mean(NB_scores_specificity))\n",
        "print(\"f1-measure: \", np.mean(NB_scores_f1))"
      ],
      "execution_count": null,
      "outputs": [
        {
          "output_type": "stream",
          "text": [
            "Accuracy:  0.6625\n",
            "AUC:  0.9242890442890443  0.12733934405900824\n",
            "Precision:  0.33380952380952383\n",
            "Recall:  0.8800000000000001\n",
            "Sensitivity:  0.8800000000000001\n",
            "Specificity:  0.6503163503163503\n",
            "f1-measure:  0.4183394383394384\n"
          ],
          "name": "stdout"
        }
      ]
    },
    {
      "cell_type": "markdown",
      "metadata": {
        "id": "6OfiGnDyJqv3"
      },
      "source": [
        "NAiVE BAYES dengan sampling data 70 dan 30 untuk train dan test"
      ]
    },
    {
      "cell_type": "code",
      "metadata": {
        "colab": {
          "base_uri": "https://localhost:8080/"
        },
        "id": "43Chov180vVf",
        "outputId": "1db0372d-88e8-4271-82f1-c89f718c9758"
      },
      "source": [
        "NB.fit(X_train, y_train)\n",
        "y_pred = NB.predict(X_test)\n",
        "NB_scores2 = metrics.accuracy_score(y_test, y_pred)\n",
        "\n",
        "tn, fp, fn, tp = matrix = confusion_matrix(y_test, y_pred).ravel()\n",
        "\n",
        "NB_roc = roc_auc_score(y_test, y_pred)\n",
        "NB_precision=tp/(tp+fp)\n",
        "NB_recall=tp/(tp+fn)\n",
        "NB_nvp=tn/(tn+fn)\n",
        "NB_specificity=tn/(tn+fp)\n",
        "NB_f1measure=2*(NB_precision*NB_recall)/(NB_precision+NB_recall)\n",
        "\n",
        "print(\"Accuracy\", NB_scores2)\n",
        "print(\"ROC: \", NB_roc)\n",
        "print(\"Precision: \", NB_precision)\n",
        "print(\"Recall: \", NB_recall)\n",
        "print(\"Sensitivity: \", NB_recall)\n",
        "print(\"Specificity: \", NB_specificity)\n",
        "print(\"F1-Measure: \", NB_f1measure)"
      ],
      "execution_count": null,
      "outputs": [
        {
          "output_type": "stream",
          "text": [
            "Accuracy 0.6666666666666666\n",
            "ROC:  0.7\n",
            "Precision:  0.9285714285714286\n",
            "Recall:  0.65\n",
            "Sensitivity:  0.65\n",
            "Specificity:  0.75\n",
            "F1-Measure:  0.7647058823529412\n"
          ],
          "name": "stdout"
        }
      ]
    },
    {
      "cell_type": "markdown",
      "metadata": {
        "id": "_l22wuxtJ4U2"
      },
      "source": [
        "DECISION TREE dengan 5 fold validation"
      ]
    },
    {
      "cell_type": "code",
      "metadata": {
        "colab": {
          "base_uri": "https://localhost:8080/"
        },
        "id": "Kh7D5lpvjTIM",
        "outputId": "caf4c820-e53c-4353-847d-e25f618556d1"
      },
      "source": [
        "#Decision Tree\n",
        "DTree = DecisionTreeClassifier()\n",
        "DTree_scores = cross_val_score(DTree, X, y, scoring = 'accuracy', cv=kf)\n",
        "DTree_scores_ROC = cross_val_score(DTree, X, y, scoring = 'roc_auc', cv=kf)\n",
        "DTree_scores_precision = cross_val_score(DTree, X, y, scoring = 'precision', cv=kf)\n",
        "DTree_scores_recall = cross_val_score(DTree, X, y, scoring = 'recall', cv=kf)\n",
        "DTree_scores_specificity = cross_val_score(DTree, X, y, scoring = specificity, cv=kf)\n",
        "DTree_scores_f1 = cross_val_score(DTree, X, y, scoring = 'f1', cv=kf)\n",
        "\n",
        "print(\"Accuracy\", np.mean(DTree_scores))\n",
        "print(\"AUC: \", DTree_scores_ROC.mean(), \"\", DTree_scores_ROC.std())\n",
        "print(\"Precision: \", np.mean(DTree_scores_precision))\n",
        "print(\"Recall: \", np.mean(DTree_scores_recall))\n",
        "print(\"Sensitivity: \", np.mean(DTree_scores_recall))\n",
        "print(\"Specificity: \", np.mean(DTree_scores_specificity))\n",
        "print(\"f1-measure: \", np.mean(DTree_scores_f1))"
      ],
      "execution_count": null,
      "outputs": [
        {
          "output_type": "stream",
          "text": [
            "Accuracy 0.8625\n",
            "AUC:  0.7270695970695971  0.16382598684039323\n",
            "Precision:  0.3333333333333333\n",
            "Recall:  0.5666666666666667\n",
            "Sensitivity:  0.5666666666666667\n",
            "Specificity:  0.915091575091575\n",
            "f1-measure:  0.48\n"
          ],
          "name": "stdout"
        },
        {
          "output_type": "stream",
          "text": [
            "/usr/local/lib/python3.7/dist-packages/sklearn/metrics/_classification.py:1272: UndefinedMetricWarning: Precision is ill-defined and being set to 0.0 due to no predicted samples. Use `zero_division` parameter to control this behavior.\n",
            "  _warn_prf(average, modifier, msg_start, len(result))\n"
          ],
          "name": "stderr"
        }
      ]
    },
    {
      "cell_type": "markdown",
      "metadata": {
        "id": "rGHrMfNzJ1K6"
      },
      "source": [
        "DECISION TREE dengan sampling data 70 dan 30 untuk train dan test"
      ]
    },
    {
      "cell_type": "code",
      "metadata": {
        "colab": {
          "base_uri": "https://localhost:8080/"
        },
        "id": "20DXMCnC5pj9",
        "outputId": "ed4963d4-4894-40c4-982f-a798af427a25"
      },
      "source": [
        "DTree.fit(X_train, y_train)\n",
        "y_pred = DTree.predict(X_test)\n",
        "DTree_scores2 = metrics.accuracy_score(y_test, y_pred)\n",
        "\n",
        "tn, fp, fn, tp = matrix = confusion_matrix(y_test, y_pred).ravel()\n",
        "\n",
        "DTree_roc = roc_auc_score(y_test, y_pred)\n",
        "DTree_precision=tp/(tp+fp)\n",
        "DTree_recall=tp/(tp+fn)\n",
        "DTree_nvp=tn/(tn+fn)\n",
        "DTree_specificity=tn/(tn+fp)\n",
        "DTree_f1measure=2*(DTree_precision*DTree_recall)/(DTree_precision+DTree_recall)\n",
        "\n",
        "print(\"Accuracy\", DTree_scores2)\n",
        "print(\"ROC: \", DTree_roc)\n",
        "print(\"Precision: \", DTree_precision)\n",
        "print(\"Recall: \", DTree_recall)\n",
        "print(\"Sensitivity: \", DTree_recall)\n",
        "print(\"Specificity: \", DTree_specificity)\n",
        "print(\"F1-Measure: \", DTree_f1measure)"
      ],
      "execution_count": null,
      "outputs": [
        {
          "output_type": "stream",
          "text": [
            "Accuracy 0.7916666666666666\n",
            "ROC:  0.675\n",
            "Precision:  0.8947368421052632\n",
            "Recall:  0.85\n",
            "Sensitivity:  0.85\n",
            "Specificity:  0.5\n",
            "F1-Measure:  0.8717948717948718\n"
          ],
          "name": "stdout"
        }
      ]
    },
    {
      "cell_type": "markdown",
      "metadata": {
        "id": "ESXRSUUnJ8PH"
      },
      "source": [
        "SVM dengan 5 fold validation"
      ]
    },
    {
      "cell_type": "code",
      "metadata": {
        "colab": {
          "base_uri": "https://localhost:8080/"
        },
        "id": "mJcNyQJhjUjt",
        "outputId": "c9420073-4124-4cfc-e2db-98e3ed7347c3"
      },
      "source": [
        "#SVM\n",
        "SVM = SVC()\n",
        "SVM_scores = cross_val_score(SVM, X, y, scoring = 'accuracy', cv=kf)\n",
        "SVM_scores_ROC = cross_val_score(SVM, X, y, scoring = 'roc_auc', cv=kf)\n",
        "SVM_scores_ROC = cross_val_score(SVM, X, y, scoring = 'roc_auc', cv=kf)\n",
        "SVM_scores_precision = cross_val_score(SVM, X, y, scoring = 'precision', cv=kf)\n",
        "SVM_scores_recall = cross_val_score(SVM, X, y, scoring = 'recall', cv=kf)\n",
        "SVM_scores_specificity = cross_val_score(SVM, X, y, scoring = specificity, cv=kf)\n",
        "SVM_scores_f1 = cross_val_score(SVM, X, y, scoring = 'f1', cv=kf)\n",
        "\n",
        "print(\"Accuracy: \", np.mean(SVM_scores))\n",
        "print(\"AUC: \", SVM_scores_ROC.mean(), \"\", SVM_scores_ROC.std())\n",
        "print(\"Precision: \", np.mean(SVM_scores_precision))\n",
        "print(\"Recall: \", np.mean(SVM_scores_recall))\n",
        "print(\"Sensitivity: \", np.mean(SVM_scores_recall))\n",
        "print(\"Specificity: \", np.mean(SVM_scores_specificity))\n",
        "print(\"f1-measure: \", np.mean(SVM_scores_f1))"
      ],
      "execution_count": null,
      "outputs": [
        {
          "output_type": "stream",
          "text": [
            "Accuracy:  0.8375\n",
            "AUC:  0.7173959373959373  0.13492838779309219\n",
            "Precision:  0.0\n",
            "Recall:  0.0\n",
            "Sensitivity:  0.0\n",
            "Specificity:  1.0\n",
            "f1-measure:  0.0\n"
          ],
          "name": "stdout"
        },
        {
          "output_type": "stream",
          "text": [
            "/usr/local/lib/python3.7/dist-packages/sklearn/metrics/_classification.py:1272: UndefinedMetricWarning: Precision is ill-defined and being set to 0.0 due to no predicted samples. Use `zero_division` parameter to control this behavior.\n",
            "  _warn_prf(average, modifier, msg_start, len(result))\n",
            "/usr/local/lib/python3.7/dist-packages/sklearn/metrics/_classification.py:1272: UndefinedMetricWarning: Precision is ill-defined and being set to 0.0 due to no predicted samples. Use `zero_division` parameter to control this behavior.\n",
            "  _warn_prf(average, modifier, msg_start, len(result))\n",
            "/usr/local/lib/python3.7/dist-packages/sklearn/metrics/_classification.py:1272: UndefinedMetricWarning: Precision is ill-defined and being set to 0.0 due to no predicted samples. Use `zero_division` parameter to control this behavior.\n",
            "  _warn_prf(average, modifier, msg_start, len(result))\n",
            "/usr/local/lib/python3.7/dist-packages/sklearn/metrics/_classification.py:1272: UndefinedMetricWarning: Precision is ill-defined and being set to 0.0 due to no predicted samples. Use `zero_division` parameter to control this behavior.\n",
            "  _warn_prf(average, modifier, msg_start, len(result))\n",
            "/usr/local/lib/python3.7/dist-packages/sklearn/metrics/_classification.py:1272: UndefinedMetricWarning: Precision is ill-defined and being set to 0.0 due to no predicted samples. Use `zero_division` parameter to control this behavior.\n",
            "  _warn_prf(average, modifier, msg_start, len(result))\n"
          ],
          "name": "stderr"
        }
      ]
    },
    {
      "cell_type": "markdown",
      "metadata": {
        "id": "FMpSfE2jKAY0"
      },
      "source": [
        "SVM dengan sampling data 70 dan 30 untuk train dan test"
      ]
    },
    {
      "cell_type": "code",
      "metadata": {
        "colab": {
          "base_uri": "https://localhost:8080/"
        },
        "id": "3pp3KT_g6BnT",
        "outputId": "46ebd976-2f5f-4f10-9dfa-ada7baaff741"
      },
      "source": [
        "SVM.fit(X_train, y_train)\n",
        "y_pred = SVM.predict(X_test)\n",
        "SVM_scores2 = metrics.accuracy_score(y_test, y_pred)\n",
        "\n",
        "tn, fp, fn, tp = matrix = confusion_matrix(y_test, y_pred).ravel()\n",
        "\n",
        "SVM_roc = roc_auc_score(y_test, y_pred)\n",
        "SVM_precision=tp/(tp+fp)\n",
        "SVM_recall=tp/(tp+fn)\n",
        "SVM_nvp=tn/(tn+fn)\n",
        "SVM_specificity=tn/(tn+fp)\n",
        "SVM_f1measure=2*(SVM_precision*SVM_recall)/(SVM_precision+SVM_recall)\n",
        "\n",
        "print(\"Accuracy: \", SVM_scores2)\n",
        "print(\"ROC: \", SVM_roc)\n",
        "print(\"Precision: \", SVM_precision)\n",
        "print(\"Recall: \", SVM_recall)\n",
        "print(\"Sensitivity: \", SVM_recall)\n",
        "print(\"Specificity: \", SVM_specificity)\n",
        "print(\"F1-Measure: \", SVM_f1measure)"
      ],
      "execution_count": null,
      "outputs": [
        {
          "output_type": "stream",
          "text": [
            "Accuracy:  0.8333333333333334\n",
            "ROC:  0.5\n",
            "Precision:  0.8333333333333334\n",
            "Recall:  1.0\n",
            "Sensitivity:  1.0\n",
            "Specificity:  0.0\n",
            "F1-Measure:  0.9090909090909091\n"
          ],
          "name": "stdout"
        },
        {
          "output_type": "stream",
          "text": [
            "/usr/local/lib/python3.7/dist-packages/ipykernel_launcher.py:10: RuntimeWarning: invalid value encountered in long_scalars\n",
            "  # Remove the CWD from sys.path while we load stuff.\n"
          ],
          "name": "stderr"
        }
      ]
    }
  ]
}